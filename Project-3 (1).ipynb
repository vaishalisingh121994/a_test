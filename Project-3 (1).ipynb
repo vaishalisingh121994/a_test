{
 "cells": [
  {
   "cell_type": "markdown",
   "id": "d8e3250f",
   "metadata": {},
   "source": [
    "import pandas as pd\n",
    "import numpy as np\n",
    "import matplotlib.pyplot as plt"
   ]
  },
  {
   "cell_type": "code",
   "execution_count": 74,
   "id": "e62420d6",
   "metadata": {},
   "outputs": [],
   "source": [
    "df=pd.read_table(\"/Users/nitin/Desktop/3055.dat\")"
   ]
  },
  {
   "cell_type": "code",
   "execution_count": 75,
   "id": "a46a8b4e",
   "metadata": {},
   "outputs": [
    {
     "data": {
      "text/html": [
       "<div>\n",
       "<style scoped>\n",
       "    .dataframe tbody tr th:only-of-type {\n",
       "        vertical-align: middle;\n",
       "    }\n",
       "\n",
       "    .dataframe tbody tr th {\n",
       "        vertical-align: top;\n",
       "    }\n",
       "\n",
       "    .dataframe thead th {\n",
       "        text-align: right;\n",
       "    }\n",
       "</style>\n",
       "<table border=\"1\" class=\"dataframe\">\n",
       "  <thead>\n",
       "    <tr style=\"text-align: right;\">\n",
       "      <th></th>\n",
       "      <th>524</th>\n",
       "      <th>1</th>\n",
       "      <th>Jared</th>\n",
       "      <th>Ely</th>\n",
       "      <th>jared.ely@sakilacustomer.org</th>\n",
       "      <th>530</th>\n",
       "      <th>t</th>\n",
       "      <th>2006-02-14</th>\n",
       "      <th>2013-05-26 14:49:45.738</th>\n",
       "      <th>1.1</th>\n",
       "    </tr>\n",
       "  </thead>\n",
       "  <tbody>\n",
       "    <tr>\n",
       "      <th>0</th>\n",
       "      <td>1</td>\n",
       "      <td>1.0</td>\n",
       "      <td>Mary</td>\n",
       "      <td>Smith</td>\n",
       "      <td>mary.smith@sakilacustomer.org</td>\n",
       "      <td>5.0</td>\n",
       "      <td>t</td>\n",
       "      <td>2006-02-14</td>\n",
       "      <td>2013-05-26 14:49:45.738</td>\n",
       "      <td>1.0</td>\n",
       "    </tr>\n",
       "    <tr>\n",
       "      <th>1</th>\n",
       "      <td>2</td>\n",
       "      <td>1.0</td>\n",
       "      <td>Patricia</td>\n",
       "      <td>Johnson</td>\n",
       "      <td>patricia.johnson@sakilacustomer.org</td>\n",
       "      <td>6.0</td>\n",
       "      <td>t</td>\n",
       "      <td>2006-02-14</td>\n",
       "      <td>2013-05-26 14:49:45.738</td>\n",
       "      <td>1.0</td>\n",
       "    </tr>\n",
       "    <tr>\n",
       "      <th>2</th>\n",
       "      <td>3</td>\n",
       "      <td>1.0</td>\n",
       "      <td>Linda</td>\n",
       "      <td>Williams</td>\n",
       "      <td>linda.williams@sakilacustomer.org</td>\n",
       "      <td>7.0</td>\n",
       "      <td>t</td>\n",
       "      <td>2006-02-14</td>\n",
       "      <td>2013-05-26 14:49:45.738</td>\n",
       "      <td>1.0</td>\n",
       "    </tr>\n",
       "    <tr>\n",
       "      <th>3</th>\n",
       "      <td>4</td>\n",
       "      <td>2.0</td>\n",
       "      <td>Barbara</td>\n",
       "      <td>Jones</td>\n",
       "      <td>barbara.jones@sakilacustomer.org</td>\n",
       "      <td>8.0</td>\n",
       "      <td>t</td>\n",
       "      <td>2006-02-14</td>\n",
       "      <td>2013-05-26 14:49:45.738</td>\n",
       "      <td>1.0</td>\n",
       "    </tr>\n",
       "    <tr>\n",
       "      <th>4</th>\n",
       "      <td>5</td>\n",
       "      <td>1.0</td>\n",
       "      <td>Elizabeth</td>\n",
       "      <td>Brown</td>\n",
       "      <td>elizabeth.brown@sakilacustomer.org</td>\n",
       "      <td>9.0</td>\n",
       "      <td>t</td>\n",
       "      <td>2006-02-14</td>\n",
       "      <td>2013-05-26 14:49:45.738</td>\n",
       "      <td>1.0</td>\n",
       "    </tr>\n",
       "    <tr>\n",
       "      <th>5</th>\n",
       "      <td>6</td>\n",
       "      <td>2.0</td>\n",
       "      <td>Jennifer</td>\n",
       "      <td>Davis</td>\n",
       "      <td>jennifer.davis@sakilacustomer.org</td>\n",
       "      <td>10.0</td>\n",
       "      <td>t</td>\n",
       "      <td>2006-02-14</td>\n",
       "      <td>2013-05-26 14:49:45.738</td>\n",
       "      <td>1.0</td>\n",
       "    </tr>\n",
       "    <tr>\n",
       "      <th>6</th>\n",
       "      <td>7</td>\n",
       "      <td>1.0</td>\n",
       "      <td>Maria</td>\n",
       "      <td>Miller</td>\n",
       "      <td>maria.miller@sakilacustomer.org</td>\n",
       "      <td>11.0</td>\n",
       "      <td>t</td>\n",
       "      <td>2006-02-14</td>\n",
       "      <td>2013-05-26 14:49:45.738</td>\n",
       "      <td>1.0</td>\n",
       "    </tr>\n",
       "    <tr>\n",
       "      <th>7</th>\n",
       "      <td>8</td>\n",
       "      <td>2.0</td>\n",
       "      <td>Susan</td>\n",
       "      <td>Wilson</td>\n",
       "      <td>susan.wilson@sakilacustomer.org</td>\n",
       "      <td>12.0</td>\n",
       "      <td>t</td>\n",
       "      <td>2006-02-14</td>\n",
       "      <td>2013-05-26 14:49:45.738</td>\n",
       "      <td>1.0</td>\n",
       "    </tr>\n",
       "    <tr>\n",
       "      <th>8</th>\n",
       "      <td>9</td>\n",
       "      <td>2.0</td>\n",
       "      <td>Margaret</td>\n",
       "      <td>Moore</td>\n",
       "      <td>margaret.moore@sakilacustomer.org</td>\n",
       "      <td>13.0</td>\n",
       "      <td>t</td>\n",
       "      <td>2006-02-14</td>\n",
       "      <td>2013-05-26 14:49:45.738</td>\n",
       "      <td>1.0</td>\n",
       "    </tr>\n",
       "    <tr>\n",
       "      <th>9</th>\n",
       "      <td>10</td>\n",
       "      <td>1.0</td>\n",
       "      <td>Dorothy</td>\n",
       "      <td>Taylor</td>\n",
       "      <td>dorothy.taylor@sakilacustomer.org</td>\n",
       "      <td>14.0</td>\n",
       "      <td>t</td>\n",
       "      <td>2006-02-14</td>\n",
       "      <td>2013-05-26 14:49:45.738</td>\n",
       "      <td>1.0</td>\n",
       "    </tr>\n",
       "  </tbody>\n",
       "</table>\n",
       "</div>"
      ],
      "text/plain": [
       "  524    1      Jared       Ely         jared.ely@sakilacustomer.org   530  t  \\\n",
       "0   1  1.0       Mary     Smith        mary.smith@sakilacustomer.org   5.0  t   \n",
       "1   2  1.0   Patricia   Johnson  patricia.johnson@sakilacustomer.org   6.0  t   \n",
       "2   3  1.0      Linda  Williams    linda.williams@sakilacustomer.org   7.0  t   \n",
       "3   4  2.0    Barbara     Jones     barbara.jones@sakilacustomer.org   8.0  t   \n",
       "4   5  1.0  Elizabeth     Brown   elizabeth.brown@sakilacustomer.org   9.0  t   \n",
       "5   6  2.0   Jennifer     Davis    jennifer.davis@sakilacustomer.org  10.0  t   \n",
       "6   7  1.0      Maria    Miller      maria.miller@sakilacustomer.org  11.0  t   \n",
       "7   8  2.0      Susan    Wilson      susan.wilson@sakilacustomer.org  12.0  t   \n",
       "8   9  2.0   Margaret     Moore    margaret.moore@sakilacustomer.org  13.0  t   \n",
       "9  10  1.0    Dorothy    Taylor    dorothy.taylor@sakilacustomer.org  14.0  t   \n",
       "\n",
       "   2006-02-14  2013-05-26 14:49:45.738  1.1  \n",
       "0  2006-02-14  2013-05-26 14:49:45.738  1.0  \n",
       "1  2006-02-14  2013-05-26 14:49:45.738  1.0  \n",
       "2  2006-02-14  2013-05-26 14:49:45.738  1.0  \n",
       "3  2006-02-14  2013-05-26 14:49:45.738  1.0  \n",
       "4  2006-02-14  2013-05-26 14:49:45.738  1.0  \n",
       "5  2006-02-14  2013-05-26 14:49:45.738  1.0  \n",
       "6  2006-02-14  2013-05-26 14:49:45.738  1.0  \n",
       "7  2006-02-14  2013-05-26 14:49:45.738  1.0  \n",
       "8  2006-02-14  2013-05-26 14:49:45.738  1.0  \n",
       "9  2006-02-14  2013-05-26 14:49:45.738  1.0  "
      ]
     },
     "execution_count": 75,
     "metadata": {},
     "output_type": "execute_result"
    }
   ],
   "source": [
    "df.head(10)"
   ]
  },
  {
   "cell_type": "code",
   "execution_count": 18,
   "id": "7439650b",
   "metadata": {},
   "outputs": [
    {
     "data": {
      "image/png": "[encoded data removed]",
      "text/plain": [
       "<Figure size 640x480 with 1 Axes>"
      ]
     },
     "metadata": {},
     "output_type": "display_data"
    }
   ],
   "source": [
    "import pandas as pd\n",
    "import matplotlib.pyplot as plt\n",
    "\n",
    "# Create the DataFrame with three separate vectors for the horizontal axis\n",
    "data1 = pd.DataFrame({\n",
    "    'X1': [2, 4, 6, 8, 10, 12],\n",
    "    'Y1': [10, 15, 12, 17, 13, 16]\n",
    "})\n",
    "\n",
    "data2 = pd.DataFrame({\n",
    "    'X2': [1, 2, 3, 4, 5, 6],\n",
    "    'Y2': [11, 17, 14, 12, 19, 10]\n",
    "})\n",
    "\n",
    "\n",
    "data3 = pd.DataFrame({\n",
    "    'X3': [3, 6, 9, 12, 15, 18],\n",
    "    'Y3': [17, 13, 18, 12, 12, 18]\n",
    "})\n",
    "\n",
    "\n",
    "\n",
    "\n",
    "# Plotting the scatter plot\n",
    "plt.scatter(data1['X1'], data1['Y1'], color='blue', label='Line 1')\n",
    "plt.scatter(data2['X2'], data2['Y2'], color='purple', label='Line 2')\n",
    "plt.scatter(data3['X3'], data3['Y3'], color='green', label='Line 3')\n",
    "\n",
    "# Customize the plot\n",
    "plt.xlabel('Horizontal Axis')\n",
    "plt.ylabel('Vertical Axis')\n",
    "plt.title('Scatter Plot with Multiple Lines')\n",
    "plt.legend()\n",
    "\n",
    "# Show the plot\n",
    "plt.show()\n"
   ]
  },
  {
   "cell_type": "code",
   "execution_count": 19,
   "id": "43b4804e",
   "metadata": {},
   "outputs": [
    {
     "data": {
      "image/png": "[encoded data removed]",
      "text/plain": [
       "<Figure size 640x480 with 1 Axes>"
      ]
     },
     "metadata": {},
     "output_type": "display_data"
    }
   ],
   "source": [
    "# Sample data\n",
    "category_amount = {\n",
    "    'Category A': 10,\n",
    "    'Category B': 12,\n",
    "    'Category C': 15,\n",
    "    'Category D': 8,\n",
    "    'Category E': 2\n",
    "}\n",
    "\n",
    "# Extract category names and corresponding amounts\n",
    "categories = list(category_amount.keys())\n",
    "amounts = list(category_amount.values())\n",
    "\n",
    "# Plotting the bar graph\n",
    "plt.bar(categories, amounts)\n",
    "\n",
    "# Customize the plot\n",
    "plt.xlabel('Categories')\n",
    "plt.ylabel('Amount')\n",
    "plt.title('Bar Graph')\n",
    "plt.xticks(rotation=45)\n",
    "\n",
    "# Show the plot\n",
    "plt.show()\n"
   ]
  },
  {
   "cell_type": "code",
   "execution_count": 20,
   "id": "19175b20",
   "metadata": {},
   "outputs": [],
   "source": [
    "#strings\n",
    "my_string = 'fdfsdfsdfsdfsfd'\n",
    "another_string = 'some string'\n",
    "#ints\n",
    "my_int = 5\n",
    "another_int = 115\n",
    "#floats\n",
    "my_float = 20.17\n",
    "another_float = 70.9\n",
    "#booleans\n",
    "my_bool = True\n",
    "another_bool = False\n",
    "yet_another_bool = (5 == 7)"
   ]
  },
  {
   "cell_type": "code",
   "execution_count": 22,
   "id": "57e9a399",
   "metadata": {},
   "outputs": [
    {
     "name": "stdout",
     "output_type": "stream",
     "text": [
      "0\n"
     ]
    }
   ],
   "source": [
    "# Length of the string\n",
    "#print(len(my_string))\n",
    "\n",
    "# Accessing individual characters using indexing\n",
    "#print(my_string[0])     # Output: 'f'\n",
    "#print(another_string[5])  # Output: 's'\n",
    "\n",
    "# Slicing a string\n",
    "#print(my_string[2:14])     # Output: 'fds'\n",
    "#print(another_string[0:])  # Output: 'me string'\n",
    "\n",
    "# Concatenating strings\n",
    "#concatenated = my_string + another_string\n",
    "#print(concatenated)       # Output: 'fdfsdfsdfsdfsfdsome string'\n",
    "#print('abc'+'def')\n",
    "# Converting to uppercase or lowercase\n",
    "#print(my_string.upper())    # Output: 'FDFSDFSDFSDFSFD'\n",
    "#print('ASAFD!&'.lower())  #\n",
    "#print(\"doijhgjh\".title())\n",
    "# Checking if a string starts or ends with a specific substring\n",
    "#print(my_string.startswith('fdfa'))   # Output: True\n",
    "#print(another_string.endswith('ing'))  # Output: True\n",
    "\n",
    "# Splitting a string into a list of substrings\n",
    "#split_string = another_string.split('m')\n",
    "#print(split_string)      # Output: ['some', 'string']\n",
    "\n",
    "# Replacing substrings\n",
    "#replaced_string = my_string.replace('fd', 'xyz')\n",
    "#print(replaced_string)   # Output: 'xyzsdfsdfsdfsxyzsfd'\n",
    "\n",
    "# Finding the index of a substring\n",
    "#print(another_string.index('some'))   # Output: 5\n",
    "\n",
    "# Counting occurrences of a substring\n",
    "print(my_string.count('gfht'))   # Output: 2\n"
   ]
  },
  {
   "cell_type": "code",
   "execution_count": 24,
   "id": "27799796",
   "metadata": {},
   "outputs": [],
   "source": [
    "def sentiment_detection(sentence):\n",
    "  positive = False\n",
    "  negative = False\n",
    "  for i in ('happy', 'people', 'makes','place','wonderful'):\n",
    "    if sentence.count(i) > 0:\n",
    "      positive = True\n",
    "  for i in ('Empty','minds','place','of','devil'):\n",
    "    if sentence.count(i) > 0:\n",
    "      negative = True\n",
    "  if positive == negative == False:\n",
    "    return \"neutral\"\n",
    "  elif positive == True != negative:\n",
    "    return \"positive\"\n",
    "  elif negative == True != positive:\n",
    "    return 'negative'\n",
    "  else:\n",
    "    return \"mixed\""
   ]
  },
  {
   "cell_type": "code",
   "execution_count": 25,
   "id": "181ea6b7",
   "metadata": {},
   "outputs": [
    {
     "data": {
      "text/plain": [
       "'negative'"
      ]
     },
     "execution_count": 25,
     "metadata": {},
     "output_type": "execute_result"
    }
   ],
   "source": [
    "sentiment_detection(\"It is devil\")"
   ]
  },
  {
   "cell_type": "code",
   "execution_count": 26,
   "id": "ddece34c",
   "metadata": {},
   "outputs": [
    {
     "data": {
      "text/plain": [
       "'positive'"
      ]
     },
     "execution_count": 26,
     "metadata": {},
     "output_type": "execute_result"
    }
   ],
   "source": [
    "sentiment_detection(\"It is wonderful\")"
   ]
  },
  {
   "cell_type": "code",
   "execution_count": 27,
   "id": "09bae15e",
   "metadata": {},
   "outputs": [
    {
     "data": {
      "text/plain": [
       "'mixed'"
      ]
     },
     "execution_count": 27,
     "metadata": {},
     "output_type": "execute_result"
    }
   ],
   "source": [
    "sentiment_detection(\"It is place\")"
   ]
  },
  {
   "cell_type": "code",
   "execution_count": 34,
   "id": "d1fa6da7",
   "metadata": {},
   "outputs": [
    {
     "name": "stdout",
     "output_type": "stream",
     "text": [
      "<class 'pandas.core.frame.DataFrame'>\n",
      "RangeIndex: 16044 entries, 0 to 16043\n",
      "Data columns (total 7 columns):\n",
      " #   Column               Non-Null Count  Dtype  \n",
      "---  ------               --------------  -----  \n",
      " 0   2                    16044 non-null  object \n",
      " 1   2005-05-24 22:54:33  16043 non-null  object \n",
      " 2   1525                 16043 non-null  float64\n",
      " 3   459                  16043 non-null  float64\n",
      " 4   2005-05-28 19:40:33  16043 non-null  object \n",
      " 5   1                    16043 non-null  float64\n",
      " 6   2006-02-16 02:30:53  16043 non-null  object \n",
      "dtypes: float64(3), object(4)\n",
      "memory usage: 877.5+ KB\n"
     ]
    }
   ],
   "source": [
    "df.info()"
   ]
  },
  {
   "cell_type": "raw",
   "id": "66e6a3e6",
   "metadata": {},
   "source": [
    "SQL"
   ]
  },
  {
   "cell_type": "code",
   "execution_count": 37,
   "id": "f0e1532f",
   "metadata": {},
   "outputs": [
    {
     "ename": "SyntaxError",
     "evalue": "invalid syntax (148918910.py, line 1)",
     "output_type": "error",
     "traceback": [
      "\u001b[0;36m  Cell \u001b[0;32mIn[37], line 1\u001b[0;36m\u001b[0m\n\u001b[0;31m    SELECT f.rating, SUM(p.amount) AS total_revenue\u001b[0m\n\u001b[0m           ^\u001b[0m\n\u001b[0;31mSyntaxError\u001b[0m\u001b[0;31m:\u001b[0m invalid syntax\n"
     ]
    }
   ],
   "source": [
    "SELECT f.rating, SUM(p.amount) AS total_revenue\n",
    "FROM film f\n",
    "JOIN inventory i ON f.film_id = i.film_id\n",
    "JOIN rental r ON i.inventory_id = r.inventory_id\n",
    "JOIN payment p ON r.rental_id = p.rental_id\n",
    "GROUP BY f.rating\n",
    "HAVING SUM(p.amount) > 13000\n",
    "ORDER BY total_revenue DESC;\n"
   ]
  },
  {
   "cell_type": "code",
   "execution_count": 35,
   "id": "2fca26e0",
   "metadata": {},
   "outputs": [
    {
     "data": {
      "text/html": [
       "<div>\n",
       "<style scoped>\n",
       "    .dataframe tbody tr th:only-of-type {\n",
       "        vertical-align: middle;\n",
       "    }\n",
       "\n",
       "    .dataframe tbody tr th {\n",
       "        vertical-align: top;\n",
       "    }\n",
       "\n",
       "    .dataframe thead th {\n",
       "        text-align: right;\n",
       "    }\n",
       "</style>\n",
       "<table border=\"1\" class=\"dataframe\">\n",
       "  <thead>\n",
       "    <tr style=\"text-align: right;\">\n",
       "      <th></th>\n",
       "      <th>1525</th>\n",
       "      <th>459</th>\n",
       "      <th>1</th>\n",
       "    </tr>\n",
       "  </thead>\n",
       "  <tbody>\n",
       "    <tr>\n",
       "      <th>count</th>\n",
       "      <td>16043.000000</td>\n",
       "      <td>16043.000000</td>\n",
       "      <td>16043.000000</td>\n",
       "    </tr>\n",
       "    <tr>\n",
       "      <th>mean</th>\n",
       "      <td>2291.890357</td>\n",
       "      <td>297.133080</td>\n",
       "      <td>1.498909</td>\n",
       "    </tr>\n",
       "    <tr>\n",
       "      <th>std</th>\n",
       "      <td>1322.237991</td>\n",
       "      <td>172.453776</td>\n",
       "      <td>0.500014</td>\n",
       "    </tr>\n",
       "    <tr>\n",
       "      <th>min</th>\n",
       "      <td>1.000000</td>\n",
       "      <td>1.000000</td>\n",
       "      <td>1.000000</td>\n",
       "    </tr>\n",
       "    <tr>\n",
       "      <th>25%</th>\n",
       "      <td>1154.000000</td>\n",
       "      <td>148.000000</td>\n",
       "      <td>1.000000</td>\n",
       "    </tr>\n",
       "    <tr>\n",
       "      <th>50%</th>\n",
       "      <td>2291.000000</td>\n",
       "      <td>296.000000</td>\n",
       "      <td>1.000000</td>\n",
       "    </tr>\n",
       "    <tr>\n",
       "      <th>75%</th>\n",
       "      <td>3433.000000</td>\n",
       "      <td>446.000000</td>\n",
       "      <td>2.000000</td>\n",
       "    </tr>\n",
       "    <tr>\n",
       "      <th>max</th>\n",
       "      <td>4581.000000</td>\n",
       "      <td>599.000000</td>\n",
       "      <td>2.000000</td>\n",
       "    </tr>\n",
       "  </tbody>\n",
       "</table>\n",
       "</div>"
      ],
      "text/plain": [
       "               1525           459             1\n",
       "count  16043.000000  16043.000000  16043.000000\n",
       "mean    2291.890357    297.133080      1.498909\n",
       "std     1322.237991    172.453776      0.500014\n",
       "min        1.000000      1.000000      1.000000\n",
       "25%     1154.000000    148.000000      1.000000\n",
       "50%     2291.000000    296.000000      1.000000\n",
       "75%     3433.000000    446.000000      2.000000\n",
       "max     4581.000000    599.000000      2.000000"
      ]
     },
     "execution_count": 35,
     "metadata": {},
     "output_type": "execute_result"
    }
   ],
   "source": [
    "df.describe()"
   ]
  },
  {
   "cell_type": "code",
   "execution_count": 41,
   "id": "a7eb2d26",
   "metadata": {},
   "outputs": [
    {
     "data": {
      "text/plain": [
       "(16044, 7)"
      ]
     },
     "execution_count": 41,
     "metadata": {},
     "output_type": "execute_result"
    }
   ],
   "source": [
    "df.shape"
   ]
  },
  {
   "cell_type": "code",
   "execution_count": 40,
   "id": "5c9cb997",
   "metadata": {},
   "outputs": [
    {
     "data": {
      "text/plain": [
       "7"
      ]
     },
     "execution_count": 40,
     "metadata": {},
     "output_type": "execute_result"
    }
   ],
   "source": [
    "df.shape[1]"
   ]
  },
  {
   "cell_type": "code",
   "execution_count": 42,
   "id": "7ace722c",
   "metadata": {},
   "outputs": [
    {
     "data": {
      "text/plain": [
       "Index(['2', '2005-05-24 22:54:33', '1525', '459', '2005-05-28 19:40:33', '1',\n",
       "       '2006-02-16 02:30:53'],\n",
       "      dtype='object')"
      ]
     },
     "execution_count": 42,
     "metadata": {},
     "output_type": "execute_result"
    }
   ],
   "source": [
    "df.columns"
   ]
  },
  {
   "cell_type": "code",
   "execution_count": 43,
   "id": "285e5e2a",
   "metadata": {},
   "outputs": [
    {
     "data": {
      "text/plain": [
       "'2005-05-28 19:40:33'"
      ]
     },
     "execution_count": 43,
     "metadata": {},
     "output_type": "execute_result"
    }
   ],
   "source": [
    "df.columns[4]"
   ]
  },
  {
   "cell_type": "code",
   "execution_count": 44,
   "id": "0ef8f6c2",
   "metadata": {},
   "outputs": [
    {
     "data": {
      "text/plain": [
       "2                       object\n",
       "2005-05-24 22:54:33     object\n",
       "1525                   float64\n",
       "459                    float64\n",
       "2005-05-28 19:40:33     object\n",
       "1                      float64\n",
       "2006-02-16 02:30:53     object\n",
       "dtype: object"
      ]
     },
     "execution_count": 44,
     "metadata": {},
     "output_type": "execute_result"
    }
   ],
   "source": [
    "df.dtypes"
   ]
  },
  {
   "cell_type": "code",
   "execution_count": 46,
   "id": "98a7ede9",
   "metadata": {},
   "outputs": [],
   "source": [
    "df_grouped=df.groupby('2005-05-24 22:54:33' )"
   ]
  },
  {
   "cell_type": "code",
   "execution_count": 47,
   "id": "9a9b79f3",
   "metadata": {},
   "outputs": [
    {
     "data": {
      "text/html": [
       "<div>\n",
       "<style scoped>\n",
       "    .dataframe tbody tr th:only-of-type {\n",
       "        vertical-align: middle;\n",
       "    }\n",
       "\n",
       "    .dataframe tbody tr th {\n",
       "        vertical-align: top;\n",
       "    }\n",
       "\n",
       "    .dataframe thead th {\n",
       "        text-align: right;\n",
       "    }\n",
       "</style>\n",
       "<table border=\"1\" class=\"dataframe\">\n",
       "  <thead>\n",
       "    <tr style=\"text-align: right;\">\n",
       "      <th></th>\n",
       "      <th>count</th>\n",
       "      <th>unique</th>\n",
       "      <th>top</th>\n",
       "      <th>freq</th>\n",
       "    </tr>\n",
       "    <tr>\n",
       "      <th>2005-05-24 22:54:33</th>\n",
       "      <th></th>\n",
       "      <th></th>\n",
       "      <th></th>\n",
       "      <th></th>\n",
       "    </tr>\n",
       "  </thead>\n",
       "  <tbody>\n",
       "    <tr>\n",
       "      <th>2005-05-24 22:53:30</th>\n",
       "      <td>1</td>\n",
       "      <td>1</td>\n",
       "      <td>2005-05-24 22:53:30</td>\n",
       "      <td>1</td>\n",
       "    </tr>\n",
       "    <tr>\n",
       "      <th>2005-05-24 23:03:39</th>\n",
       "      <td>1</td>\n",
       "      <td>1</td>\n",
       "      <td>2005-05-24 23:03:39</td>\n",
       "      <td>1</td>\n",
       "    </tr>\n",
       "    <tr>\n",
       "      <th>2005-05-24 23:04:41</th>\n",
       "      <td>1</td>\n",
       "      <td>1</td>\n",
       "      <td>2005-05-24 23:04:41</td>\n",
       "      <td>1</td>\n",
       "    </tr>\n",
       "    <tr>\n",
       "      <th>2005-05-24 23:05:21</th>\n",
       "      <td>1</td>\n",
       "      <td>1</td>\n",
       "      <td>2005-05-24 23:05:21</td>\n",
       "      <td>1</td>\n",
       "    </tr>\n",
       "    <tr>\n",
       "      <th>2005-05-24 23:08:07</th>\n",
       "      <td>1</td>\n",
       "      <td>1</td>\n",
       "      <td>2005-05-24 23:08:07</td>\n",
       "      <td>1</td>\n",
       "    </tr>\n",
       "    <tr>\n",
       "      <th>...</th>\n",
       "      <td>...</td>\n",
       "      <td>...</td>\n",
       "      <td>...</td>\n",
       "      <td>...</td>\n",
       "    </tr>\n",
       "    <tr>\n",
       "      <th>2005-08-23 22:26:47</th>\n",
       "      <td>1</td>\n",
       "      <td>1</td>\n",
       "      <td>2005-08-23 22:26:47</td>\n",
       "      <td>1</td>\n",
       "    </tr>\n",
       "    <tr>\n",
       "      <th>2005-08-23 22:42:48</th>\n",
       "      <td>1</td>\n",
       "      <td>1</td>\n",
       "      <td>2005-08-23 22:42:48</td>\n",
       "      <td>1</td>\n",
       "    </tr>\n",
       "    <tr>\n",
       "      <th>2005-08-23 22:43:07</th>\n",
       "      <td>1</td>\n",
       "      <td>1</td>\n",
       "      <td>2005-08-23 22:43:07</td>\n",
       "      <td>1</td>\n",
       "    </tr>\n",
       "    <tr>\n",
       "      <th>2005-08-23 22:50:12</th>\n",
       "      <td>1</td>\n",
       "      <td>1</td>\n",
       "      <td>2005-08-23 22:50:12</td>\n",
       "      <td>1</td>\n",
       "    </tr>\n",
       "    <tr>\n",
       "      <th>2006-02-14 15:16:03</th>\n",
       "      <td>182</td>\n",
       "      <td>1</td>\n",
       "      <td>2006-02-14 15:16:03</td>\n",
       "      <td>182</td>\n",
       "    </tr>\n",
       "  </tbody>\n",
       "</table>\n",
       "<p>15814 rows × 4 columns</p>\n",
       "</div>"
      ],
      "text/plain": [
       "                    count unique                  top freq\n",
       "2005-05-24 22:54:33                                       \n",
       "2005-05-24 22:53:30     1      1  2005-05-24 22:53:30    1\n",
       "2005-05-24 23:03:39     1      1  2005-05-24 23:03:39    1\n",
       "2005-05-24 23:04:41     1      1  2005-05-24 23:04:41    1\n",
       "2005-05-24 23:05:21     1      1  2005-05-24 23:05:21    1\n",
       "2005-05-24 23:08:07     1      1  2005-05-24 23:08:07    1\n",
       "...                   ...    ...                  ...  ...\n",
       "2005-08-23 22:26:47     1      1  2005-08-23 22:26:47    1\n",
       "2005-08-23 22:42:48     1      1  2005-08-23 22:42:48    1\n",
       "2005-08-23 22:43:07     1      1  2005-08-23 22:43:07    1\n",
       "2005-08-23 22:50:12     1      1  2005-08-23 22:50:12    1\n",
       "2006-02-14 15:16:03   182      1  2006-02-14 15:16:03  182\n",
       "\n",
       "[15814 rows x 4 columns]"
      ]
     },
     "execution_count": 47,
     "metadata": {},
     "output_type": "execute_result"
    }
   ],
   "source": [
    "df_grouped['2005-05-24 22:54:33'].describe()"
   ]
  },
  {
   "cell_type": "code",
   "execution_count": 1,
   "id": "5fed5678",
   "metadata": {},
   "outputs": [
    {
     "data": {
      "text/plain": [
       "array([[1, 6],\n",
       "       [3, 4]])"
      ]
     },
     "execution_count": 1,
     "metadata": {},
     "output_type": "execute_result"
    }
   ],
   "source": [
    "import pandas as pd\n",
    "import matplotlib.pyplot as plt\n",
    "import numpy as np\n",
    "\n",
    "np.where([[True, False], [True, True]],\n",
    "         [[1, 2], [3, 4]], [[5, 6], [7, 8]])"
   ]
  },
  {
   "cell_type": "code",
   "execution_count": 2,
   "id": "95086be2",
   "metadata": {},
   "outputs": [
    {
     "name": "stdout",
     "output_type": "stream",
     "text": [
      "[[1 2 3]\n",
      " [4 5 6]]\n",
      "Indices of elements <4\n",
      "(array([0, 0, 0]), array([0, 1, 2]))\n",
      "Elements which are <4\n",
      "[1 2 3]\n"
     ]
    }
   ],
   "source": [
    "# Python program explaining \n",
    "# where() function \n",
    "  \n",
    "import numpy as np\n",
    "  \n",
    "# a is an array of integers.\n",
    "a = np.array([[1, 2, 3], [4, 5, 6]])\n",
    "  \n",
    "print(a)\n",
    "  \n",
    "print ('Indices of elements <4')\n",
    "  \n",
    "b = np.where(a<4)\n",
    "print(b)\n",
    "  \n",
    "print(\"Elements which are <4\")\n",
    "print(a[b])"
   ]
  },
  {
   "cell_type": "code",
   "execution_count": 3,
   "id": "1482fd07",
   "metadata": {},
   "outputs": [
    {
     "name": "stdout",
     "output_type": "stream",
     "text": [
      "[  0   1   2   0   0 125 216 343]\n"
     ]
    }
   ],
   "source": [
    "# Python program explaining\n",
    "# numpy.select() function\n",
    "  \n",
    "# importing numpy as np \n",
    "import numpy as np\n",
    "  \n",
    "arr = np.arange(8)\n",
    "  \n",
    "condlist = [arr<3, arr>4]\n",
    "choicelist = [arr, arr**3]\n",
    "  \n",
    "gfg = np.select(condlist, choicelist)\n",
    "  \n",
    "print (gfg)"
   ]
  },
  {
   "cell_type": "code",
   "execution_count": 8,
   "id": "47708305",
   "metadata": {},
   "outputs": [
    {
     "data": {
      "text/plain": [
       "6"
      ]
     },
     "execution_count": 8,
     "metadata": {},
     "output_type": "execute_result"
    }
   ],
   "source": [
    "def f(x):return x * 2\n",
    "\n",
    "f(3)\n",
    "\n"
   ]
  },
  {
   "cell_type": "code",
   "execution_count": 11,
   "id": "add2f1bc",
   "metadata": {},
   "outputs": [
    {
     "data": {
      "text/plain": [
       "<function __main__.<lambda>(x)>"
      ]
     },
     "execution_count": 11,
     "metadata": {},
     "output_type": "execute_result"
    }
   ],
   "source": [
    "lambda x: x * 3"
   ]
  },
  {
   "cell_type": "code",
   "execution_count": 14,
   "id": "1682b404",
   "metadata": {},
   "outputs": [
    {
     "data": {
      "text/plain": [
       "<function __main__.<lambda>(x)>"
      ]
     },
     "execution_count": 14,
     "metadata": {},
     "output_type": "execute_result"
    }
   ],
   "source": [
    "lambda x:(x*2)*(3)"
   ]
  },
  {
   "cell_type": "code",
   "execution_count": 23,
   "id": "901e80ab",
   "metadata": {},
   "outputs": [],
   "source": [
    "import pandas as pd\n",
    "import numpy as np\n",
    "import matplotlib.pyplot as plt\n",
    "\n",
    "df = pd.DataFrame(\n",
    "    {\"name\": [\"IBRAHIM\", \"SEGUN\", \"YUSUF\", \"DARE\", \"BOLA\", \"SOKUNBI\"],\n",
    "     \"score\": [50, 32, 45, 45, 23, 45]\n",
    "    }\n",
    ")\n"
   ]
  },
  {
   "cell_type": "code",
   "execution_count": 24,
   "id": "46e15be9",
   "metadata": {},
   "outputs": [],
   "source": [
    "df[\"lower_name\"] = df[\"name\"].apply(lambda x: x.lower())"
   ]
  },
  {
   "cell_type": "code",
   "execution_count": 25,
   "id": "b97c0d5d",
   "metadata": {},
   "outputs": [
    {
     "name": "stdout",
     "output_type": "stream",
     "text": [
      "3\n"
     ]
    }
   ],
   "source": [
    "adder = lambda x, y: x + y\n",
    "print (adder (1, 2))"
   ]
  },
  {
   "cell_type": "code",
   "execution_count": 26,
   "id": "edb67f7b",
   "metadata": {},
   "outputs": [
    {
     "name": "stdout",
     "output_type": "stream",
     "text": [
      "some kind of a useless lambda\n"
     ]
    }
   ],
   "source": [
    "x=\"some kind of a useless lambda\"\n",
    "(lambda x : print(x))(x)"
   ]
  },
  {
   "cell_type": "code",
   "execution_count": 27,
   "id": "3fa0c51e",
   "metadata": {},
   "outputs": [
    {
     "name": "stdout",
     "output_type": "stream",
     "text": [
      "apple\n",
      "banana\n",
      "cherry\n"
     ]
    }
   ],
   "source": [
    "fruits = [\"apple\", \"banana\", \"cherry\"]\n",
    "for x in fruits:\n",
    "  print(x)"
   ]
  },
  {
   "cell_type": "code",
   "execution_count": 28,
   "id": "e3479857",
   "metadata": {},
   "outputs": [
    {
     "name": "stdout",
     "output_type": "stream",
     "text": [
      "apple\n",
      "banana\n"
     ]
    }
   ],
   "source": [
    "fruits = [\"apple\", \"banana\", \"cherry\"]\n",
    "for x in fruits:\n",
    "  print(x) \n",
    "  if x == \"banana\":\n",
    "    break"
   ]
  },
  {
   "cell_type": "code",
   "execution_count": 29,
   "id": "c12f7c96",
   "metadata": {},
   "outputs": [
    {
     "name": "stdout",
     "output_type": "stream",
     "text": [
      "apple\n"
     ]
    }
   ],
   "source": [
    "fruits = [\"apple\", \"banana\", \"cherry\"]\n",
    "for x in fruits:\n",
    "  if x == \"banana\":\n",
    "    break\n",
    "  print(x)"
   ]
  },
  {
   "cell_type": "code",
   "execution_count": 30,
   "id": "4b45c8d7",
   "metadata": {},
   "outputs": [
    {
     "name": "stdout",
     "output_type": "stream",
     "text": [
      "apple\n",
      "cherry\n"
     ]
    }
   ],
   "source": [
    "fruits = [\"apple\", \"banana\", \"cherry\"]\n",
    "for x in fruits:\n",
    "  if x == \"banana\":\n",
    "    continue\n",
    "  print(x)"
   ]
  },
  {
   "cell_type": "code",
   "execution_count": 31,
   "id": "e55bcfd2",
   "metadata": {},
   "outputs": [
    {
     "name": "stdout",
     "output_type": "stream",
     "text": [
      "0\n",
      "1\n",
      "2\n",
      "3\n",
      "4\n",
      "5\n"
     ]
    }
   ],
   "source": [
    "#Using the range() function:\n",
    "\n",
    "for x in range(6):\n",
    "  print(x)"
   ]
  },
  {
   "cell_type": "code",
   "execution_count": 32,
   "id": "e55d16ba",
   "metadata": {},
   "outputs": [
    {
     "name": "stdout",
     "output_type": "stream",
     "text": [
      "0\n",
      "1\n",
      "2\n",
      "3\n",
      "4\n",
      "5\n",
      "Finally finished!\n"
     ]
    }
   ],
   "source": [
    "for x in range(6):\n",
    "  print(x)\n",
    "else:\n",
    "  print(\"Finally finished!\")"
   ]
  },
  {
   "cell_type": "code",
   "execution_count": 33,
   "id": "e62d2c3f",
   "metadata": {},
   "outputs": [
    {
     "name": "stdout",
     "output_type": "stream",
     "text": [
      "0\n",
      "1\n",
      "2\n"
     ]
    }
   ],
   "source": [
    "for x in range(6):\n",
    "  if x == 3: break\n",
    "  print(x)\n",
    "else:\n",
    "  print(\"Finally finished!\")"
   ]
  },
  {
   "cell_type": "code",
   "execution_count": 34,
   "id": "5b23a739",
   "metadata": {},
   "outputs": [
    {
     "name": "stdout",
     "output_type": "stream",
     "text": [
      "red apple\n",
      "red banana\n",
      "red cherry\n",
      "big apple\n",
      "big banana\n",
      "big cherry\n",
      "tasty apple\n",
      "tasty banana\n",
      "tasty cherry\n"
     ]
    }
   ],
   "source": [
    "adj = [\"red\", \"big\", \"tasty\"]\n",
    "fruits = [\"apple\", \"banana\", \"cherry\"]\n",
    "\n",
    "for x in adj:\n",
    "  for y in fruits:\n",
    "    print(x, y)"
   ]
  },
  {
   "cell_type": "code",
   "execution_count": 73,
   "id": "665b0fd3",
   "metadata": {},
   "outputs": [
    {
     "name": "stdout",
     "output_type": "stream",
     "text": [
      "       1      Jared       Ely         jared.ely@sakilacustomer.org  530  t  \\\n",
      "524                                                                          \n",
      "1    1.0       Mary     Smith        mary.smith@sakilacustomer.org  5.0  t   \n",
      "2    1.0   Patricia   Johnson  patricia.johnson@sakilacustomer.org  6.0  t   \n",
      "3    1.0      Linda  Williams    linda.williams@sakilacustomer.org  7.0  t   \n",
      "4    2.0    Barbara     Jones     barbara.jones@sakilacustomer.org  8.0  t   \n",
      "5    1.0  Elizabeth     Brown   elizabeth.brown@sakilacustomer.org  9.0  t   \n",
      "\n",
      "     2006-02-14  2013-05-26 14:49:45.738  1.1  \n",
      "524                                            \n",
      "1    2006-02-14  2013-05-26 14:49:45.738  1.0  \n",
      "2    2006-02-14  2013-05-26 14:49:45.738  1.0  \n",
      "3    2006-02-14  2013-05-26 14:49:45.738  1.0  \n",
      "4    2006-02-14  2013-05-26 14:49:45.738  1.0  \n",
      "5    2006-02-14  2013-05-26 14:49:45.738  1.0  \n"
     ]
    },
    {
     "name": "stderr",
     "output_type": "stream",
     "text": [
      "/var/folders/_x/sq901qk10p34brjhdvxgp9840000gn/T/ipykernel_55132/2915449812.py:3: FutureWarning: The squeeze argument has been deprecated and will be removed in a future version. Append .squeeze(\"columns\") to the call to squeeze.\n",
      "\n",
      "\n",
      "  series = pd.read_table('/Users/nitin/Desktop/3055.dat', header=0, index_col=0, parse_dates=True, squeeze=True)\n"
     ]
    }
   ],
   "source": [
    "from pandas import read_csv\n",
    "from matplotlib import pyplot\n",
    "series = pd.read_table('/Users/nitin/Desktop/3055.dat', header=0, index_col=0, parse_dates=True, squeeze=True)\n",
    "\n",
    "print(series.head())"
   ]
  },
  {
   "cell_type": "code",
   "execution_count": 76,
   "id": "0d149259",
   "metadata": {},
   "outputs": [
    {
     "name": "stderr",
     "output_type": "stream",
     "text": [
      "/var/folders/_x/sq901qk10p34brjhdvxgp9840000gn/T/ipykernel_55132/1454225787.py:3: FutureWarning: The squeeze argument has been deprecated and will be removed in a future version. Append .squeeze(\"columns\") to the call to squeeze.\n",
      "\n",
      "\n",
      "  series = pd.read_table('/Users/nitin/Desktop/3055.dat', header=0, index_col=0, parse_dates=True, squeeze=True)\n"
     ]
    },
    {
     "data": {
      "image/png": "[encoded data removed]",
      "text/plain": [
       "<Figure size 640x480 with 1 Axes>"
      ]
     },
     "metadata": {},
     "output_type": "display_data"
    }
   ],
   "source": [
    "from pandas import read_csv\n",
    "from matplotlib import pyplot\n",
    "series = pd.read_table('/Users/nitin/Desktop/3055.dat', header=0, index_col=0, parse_dates=True, squeeze=True)\n",
    "series.plot()\n",
    "pyplot.show()"
   ]
  },
  {
   "cell_type": "code",
   "execution_count": 77,
   "id": "dc0f6758",
   "metadata": {},
   "outputs": [
    {
     "name": "stderr",
     "output_type": "stream",
     "text": [
      "/var/folders/_x/sq901qk10p34brjhdvxgp9840000gn/T/ipykernel_55132/3907868444.py:3: FutureWarning: The squeeze argument has been deprecated and will be removed in a future version. Append .squeeze(\"columns\") to the call to squeeze.\n",
      "\n",
      "\n",
      "  series = pd.read_table('/Users/nitin/Desktop/3055.dat', header=0, index_col=0, parse_dates=True, squeeze=True)\n"
     ]
    },
    {
     "data": {
      "image/png": "[encoded data removed]",
      "text/plain": [
       "<Figure size 640x480 with 1 Axes>"
      ]
     },
     "metadata": {},
     "output_type": "display_data"
    }
   ],
   "source": [
    "from pandas import read_csv\n",
    "from matplotlib import pyplot\n",
    "series = pd.read_table('/Users/nitin/Desktop/3055.dat', header=0, index_col=0, parse_dates=True, squeeze=True)\n",
    "series.plot(style='k.')\n",
    "pyplot.show()"
   ]
  },
  {
   "cell_type": "code",
   "execution_count": 78,
   "id": "4bad275c",
   "metadata": {},
   "outputs": [
    {
     "name": "stderr",
     "output_type": "stream",
     "text": [
      "/var/folders/_x/sq901qk10p34brjhdvxgp9840000gn/T/ipykernel_55132/2022374305.py:3: FutureWarning: The squeeze argument has been deprecated and will be removed in a future version. Append .squeeze(\"columns\") to the call to squeeze.\n",
      "\n",
      "\n",
      "  series = pd.read_table('/Users/nitin/Desktop/3055.dat', header=0, index_col=0, parse_dates=True, squeeze=True)\n"
     ]
    },
    {
     "data": {
      "image/png": "[encoded data removed]",
      "text/plain": [
       "<Figure size 640x480 with 4 Axes>"
      ]
     },
     "metadata": {},
     "output_type": "display_data"
    }
   ],
   "source": [
    "from pandas import read_csv\n",
    "from matplotlib import pyplot\n",
    "series = pd.read_table('/Users/nitin/Desktop/3055.dat', header=0, index_col=0, parse_dates=True, squeeze=True)\n",
    "series.hist()\n",
    "pyplot.show()"
   ]
  },
  {
   "cell_type": "code",
   "execution_count": 79,
   "id": "d38abc0b",
   "metadata": {},
   "outputs": [
    {
     "name": "stderr",
     "output_type": "stream",
     "text": [
      "/var/folders/_x/sq901qk10p34brjhdvxgp9840000gn/T/ipykernel_55132/1993518313.py:3: FutureWarning: The squeeze argument has been deprecated and will be removed in a future version. Append .squeeze(\"columns\") to the call to squeeze.\n",
      "\n",
      "\n",
      "  series = pd.read_table('/Users/nitin/Desktop/3055.dat', header=0, index_col=0, parse_dates=True, squeeze=True)\n"
     ]
    },
    {
     "ename": "ModuleNotFoundError",
     "evalue": "No module named 'scipy'",
     "output_type": "error",
     "traceback": [
      "\u001b[0;31m---------------------------------------------------------------------------\u001b[0m",
      "\u001b[0;31mModuleNotFoundError\u001b[0m                       Traceback (most recent call last)",
      "Cell \u001b[0;32mIn[79], line 4\u001b[0m\n\u001b[1;32m      2\u001b[0m \u001b[38;5;28;01mfrom\u001b[39;00m \u001b[38;5;21;01mmatplotlib\u001b[39;00m \u001b[38;5;28;01mimport\u001b[39;00m pyplot\n\u001b[1;32m      3\u001b[0m series \u001b[38;5;241m=\u001b[39m pd\u001b[38;5;241m.\u001b[39mread_table(\u001b[38;5;124m'\u001b[39m\u001b[38;5;124m/Users/nitin/Desktop/3055.dat\u001b[39m\u001b[38;5;124m'\u001b[39m, header\u001b[38;5;241m=\u001b[39m\u001b[38;5;241m0\u001b[39m, index_col\u001b[38;5;241m=\u001b[39m\u001b[38;5;241m0\u001b[39m, parse_dates\u001b[38;5;241m=\u001b[39m\u001b[38;5;28;01mTrue\u001b[39;00m, squeeze\u001b[38;5;241m=\u001b[39m\u001b[38;5;28;01mTrue\u001b[39;00m)\n\u001b[0;32m----> 4\u001b[0m \u001b[43mseries\u001b[49m\u001b[38;5;241;43m.\u001b[39;49m\u001b[43mplot\u001b[49m\u001b[43m(\u001b[49m\u001b[43mkind\u001b[49m\u001b[38;5;241;43m=\u001b[39;49m\u001b[38;5;124;43m'\u001b[39;49m\u001b[38;5;124;43mkde\u001b[39;49m\u001b[38;5;124;43m'\u001b[39;49m\u001b[43m)\u001b[49m\n\u001b[1;32m      5\u001b[0m pyplot\u001b[38;5;241m.\u001b[39mshow()\n",
      "File \u001b[0;32m/Library/Frameworks/Python.framework/Versions/3.11/lib/python3.11/site-packages/pandas/plotting/_core.py:1000\u001b[0m, in \u001b[0;36mPlotAccessor.__call__\u001b[0;34m(self, *args, **kwargs)\u001b[0m\n\u001b[1;32m    997\u001b[0m             label_name \u001b[38;5;241m=\u001b[39m label_kw \u001b[38;5;129;01mor\u001b[39;00m data\u001b[38;5;241m.\u001b[39mcolumns\n\u001b[1;32m    998\u001b[0m             data\u001b[38;5;241m.\u001b[39mcolumns \u001b[38;5;241m=\u001b[39m label_name\n\u001b[0;32m-> 1000\u001b[0m \u001b[38;5;28;01mreturn\u001b[39;00m \u001b[43mplot_backend\u001b[49m\u001b[38;5;241;43m.\u001b[39;49m\u001b[43mplot\u001b[49m\u001b[43m(\u001b[49m\u001b[43mdata\u001b[49m\u001b[43m,\u001b[49m\u001b[43m \u001b[49m\u001b[43mkind\u001b[49m\u001b[38;5;241;43m=\u001b[39;49m\u001b[43mkind\u001b[49m\u001b[43m,\u001b[49m\u001b[43m \u001b[49m\u001b[38;5;241;43m*\u001b[39;49m\u001b[38;5;241;43m*\u001b[39;49m\u001b[43mkwargs\u001b[49m\u001b[43m)\u001b[49m\n",
      "File \u001b[0;32m/Library/Frameworks/Python.framework/Versions/3.11/lib/python3.11/site-packages/pandas/plotting/_matplotlib/__init__.py:71\u001b[0m, in \u001b[0;36mplot\u001b[0;34m(data, kind, **kwargs)\u001b[0m\n\u001b[1;32m     69\u001b[0m         kwargs[\u001b[38;5;124m\"\u001b[39m\u001b[38;5;124max\u001b[39m\u001b[38;5;124m\"\u001b[39m] \u001b[38;5;241m=\u001b[39m \u001b[38;5;28mgetattr\u001b[39m(ax, \u001b[38;5;124m\"\u001b[39m\u001b[38;5;124mleft_ax\u001b[39m\u001b[38;5;124m\"\u001b[39m, ax)\n\u001b[1;32m     70\u001b[0m plot_obj \u001b[38;5;241m=\u001b[39m PLOT_CLASSES[kind](data, \u001b[38;5;241m*\u001b[39m\u001b[38;5;241m*\u001b[39mkwargs)\n\u001b[0;32m---> 71\u001b[0m \u001b[43mplot_obj\u001b[49m\u001b[38;5;241;43m.\u001b[39;49m\u001b[43mgenerate\u001b[49m\u001b[43m(\u001b[49m\u001b[43m)\u001b[49m\n\u001b[1;32m     72\u001b[0m plot_obj\u001b[38;5;241m.\u001b[39mdraw()\n\u001b[1;32m     73\u001b[0m \u001b[38;5;28;01mreturn\u001b[39;00m plot_obj\u001b[38;5;241m.\u001b[39mresult\n",
      "File \u001b[0;32m/Library/Frameworks/Python.framework/Versions/3.11/lib/python3.11/site-packages/pandas/plotting/_matplotlib/core.py:452\u001b[0m, in \u001b[0;36mMPLPlot.generate\u001b[0;34m(self)\u001b[0m\n\u001b[1;32m    450\u001b[0m \u001b[38;5;28mself\u001b[39m\u001b[38;5;241m.\u001b[39m_compute_plot_data()\n\u001b[1;32m    451\u001b[0m \u001b[38;5;28mself\u001b[39m\u001b[38;5;241m.\u001b[39m_setup_subplots()\n\u001b[0;32m--> 452\u001b[0m \u001b[38;5;28;43mself\u001b[39;49m\u001b[38;5;241;43m.\u001b[39;49m\u001b[43m_make_plot\u001b[49m\u001b[43m(\u001b[49m\u001b[43m)\u001b[49m\n\u001b[1;32m    453\u001b[0m \u001b[38;5;28mself\u001b[39m\u001b[38;5;241m.\u001b[39m_add_table()\n\u001b[1;32m    454\u001b[0m \u001b[38;5;28mself\u001b[39m\u001b[38;5;241m.\u001b[39m_make_legend()\n",
      "File \u001b[0;32m/Library/Frameworks/Python.framework/Versions/3.11/lib/python3.11/site-packages/pandas/plotting/_matplotlib/hist.py:154\u001b[0m, in \u001b[0;36mHistPlot._make_plot\u001b[0;34m(self)\u001b[0m\n\u001b[1;32m    151\u001b[0m \u001b[38;5;28;01mif\u001b[39;00m weights \u001b[38;5;129;01mis\u001b[39;00m \u001b[38;5;129;01mnot\u001b[39;00m \u001b[38;5;28;01mNone\u001b[39;00m \u001b[38;5;129;01mand\u001b[39;00m np\u001b[38;5;241m.\u001b[39mndim(weights) \u001b[38;5;241m!=\u001b[39m \u001b[38;5;241m1\u001b[39m:\n\u001b[1;32m    152\u001b[0m     kwds[\u001b[38;5;124m\"\u001b[39m\u001b[38;5;124mweights\u001b[39m\u001b[38;5;124m\"\u001b[39m] \u001b[38;5;241m=\u001b[39m weights[:, i]\n\u001b[0;32m--> 154\u001b[0m artists \u001b[38;5;241m=\u001b[39m \u001b[38;5;28;43mself\u001b[39;49m\u001b[38;5;241;43m.\u001b[39;49m\u001b[43m_plot\u001b[49m\u001b[43m(\u001b[49m\u001b[43max\u001b[49m\u001b[43m,\u001b[49m\u001b[43m \u001b[49m\u001b[43my\u001b[49m\u001b[43m,\u001b[49m\u001b[43m \u001b[49m\u001b[43mcolumn_num\u001b[49m\u001b[38;5;241;43m=\u001b[39;49m\u001b[43mi\u001b[49m\u001b[43m,\u001b[49m\u001b[43m \u001b[49m\u001b[43mstacking_id\u001b[49m\u001b[38;5;241;43m=\u001b[39;49m\u001b[43mstacking_id\u001b[49m\u001b[43m,\u001b[49m\u001b[43m \u001b[49m\u001b[38;5;241;43m*\u001b[39;49m\u001b[38;5;241;43m*\u001b[39;49m\u001b[43mkwds\u001b[49m\u001b[43m)\u001b[49m\n\u001b[1;32m    156\u001b[0m \u001b[38;5;66;03m# when by is applied, show title for subplots to know which group it is\u001b[39;00m\n\u001b[1;32m    157\u001b[0m \u001b[38;5;28;01mif\u001b[39;00m \u001b[38;5;28mself\u001b[39m\u001b[38;5;241m.\u001b[39mby \u001b[38;5;129;01mis\u001b[39;00m \u001b[38;5;129;01mnot\u001b[39;00m \u001b[38;5;28;01mNone\u001b[39;00m:\n",
      "File \u001b[0;32m/Library/Frameworks/Python.framework/Versions/3.11/lib/python3.11/site-packages/pandas/plotting/_matplotlib/hist.py:232\u001b[0m, in \u001b[0;36mKdePlot._plot\u001b[0;34m(cls, ax, y, style, bw_method, ind, column_num, stacking_id, **kwds)\u001b[0m\n\u001b[1;32m    220\u001b[0m \u001b[38;5;129m@classmethod\u001b[39m\n\u001b[1;32m    221\u001b[0m \u001b[38;5;28;01mdef\u001b[39;00m \u001b[38;5;21m_plot\u001b[39m(\n\u001b[1;32m    222\u001b[0m     \u001b[38;5;28mcls\u001b[39m,\n\u001b[0;32m   (...)\u001b[0m\n\u001b[1;32m    230\u001b[0m     \u001b[38;5;241m*\u001b[39m\u001b[38;5;241m*\u001b[39mkwds,\n\u001b[1;32m    231\u001b[0m ):\n\u001b[0;32m--> 232\u001b[0m     \u001b[38;5;28;01mfrom\u001b[39;00m \u001b[38;5;21;01mscipy\u001b[39;00m\u001b[38;5;21;01m.\u001b[39;00m\u001b[38;5;21;01mstats\u001b[39;00m \u001b[38;5;28;01mimport\u001b[39;00m gaussian_kde\n\u001b[1;32m    234\u001b[0m     y \u001b[38;5;241m=\u001b[39m remove_na_arraylike(y)\n\u001b[1;32m    235\u001b[0m     gkde \u001b[38;5;241m=\u001b[39m gaussian_kde(y, bw_method\u001b[38;5;241m=\u001b[39mbw_method)\n",
      "\u001b[0;31mModuleNotFoundError\u001b[0m: No module named 'scipy'"
     ]
    },
    {
     "data": {
      "image/png": "[encoded data removed]",
      "text/plain": [
       "<Figure size 640x480 with 1 Axes>"
      ]
     },
     "metadata": {},
     "output_type": "display_data"
    }
   ],
   "source": [
    "from pandas import read_csv\n",
    "from matplotlib import pyplot\n",
    "series = pd.read_table('/Users/nitin/Desktop/3055.dat', header=0, index_col=0, parse_dates=True, squeeze=True)\n",
    "series.plot(kind='kde')\n",
    "pyplot.show()"
   ]
  },
  {
   "cell_type": "code",
   "execution_count": 81,
   "id": "624d9b94",
   "metadata": {},
   "outputs": [
    {
     "data": {
      "image/png": "[encoded data removed]",
      "text/plain": [
       "<Figure size 640x480 with 1 Axes>"
      ]
     },
     "metadata": {},
     "output_type": "display_data"
    }
   ],
   "source": [
    "import seaborn as sns\n",
    "import matplotlib.pyplot as plt\n",
    "df = sns.load_dataset('tips')\n",
    "sns.barplot(x = 'time',y = 'total_bill',data = df)\n",
    "plt.show()"
   ]
  },
  {
   "cell_type": "code",
   "execution_count": 101,
   "id": "2caa4d9e",
   "metadata": {},
   "outputs": [
    {
     "data": {
      "image/png": "[encoded data removed]",
      "text/plain": [
       "<Figure size 640x480 with 1 Axes>"
      ]
     },
     "metadata": {},
     "output_type": "display_data"
    }
   ],
   "source": [
    "# Create a new data-frame where you classify some different countries into some categories that make sense to you\n",
    "# (8 countries min, 20 max) in this df there will be two columns, one column will give the country name, \n",
    "# the other column will give the classification category.countries_data = {\n",
    "   \n",
    "    \n",
    "countries_data = {\n",
    "    'country': ['United States', 'United Kingdom', 'Canada', 'Australia', 'Germany', 'France', 'Brazil', 'India', 'China', 'Japan'],\n",
    "    'Geographical Location': ['North America', 'Europe', 'North America', 'Oceania', 'Europe', 'Europe', 'South America', 'Asia', 'Asia', 'Asia']\n",
    "}\n",
    "\n",
    "df = pd.DataFrame(countries_data)\n",
    "\n",
    "location_counts = df['Geographical Location'].value_counts()\n",
    "\n",
    "plt.pie(location_counts.values, labels=location_counts.index, autopct='%1.1f%%')\n",
    "plt.title('Distribution of Countries by Geographical Location')\n",
    "plt.axis('equal')\n",
    "plt.show()"
   ]
  },
  {
   "cell_type": "code",
   "execution_count": null,
   "id": "f879c401",
   "metadata": {},
   "outputs": [],
   "source": []
  }
 ],
 "metadata": {
  "kernelspec": {
   "display_name": "Python 3 (ipykernel)",
   "language": "python",
   "name": "python3"
  },
  "language_info": {
   "codemirror_mode": {
    "name": "ipython",
    "version": 3
   },
   "file_extension": ".py",
   "mimetype": "text/x-python",
   "name": "python",
   "nbconvert_exporter": "python",
   "pygments_lexer": "ipython3",
   "version": "3.11.4"
  }
 },
 "nbformat": 4,
 "nbformat_minor": 5
}
